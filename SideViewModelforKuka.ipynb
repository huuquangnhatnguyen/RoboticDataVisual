{
  "nbformat": 4,
  "nbformat_minor": 0,
  "metadata": {
    "colab": {
      "provenance": [],
      "include_colab_link": true
    },
    "kernelspec": {
      "name": "python3",
      "display_name": "Python 3"
    },
    "language_info": {
      "name": "python"
    }
  },
  "cells": [
    {
      "cell_type": "markdown",
      "metadata": {
        "id": "view-in-github",
        "colab_type": "text"
      },
      "source": [
        "<a href=\"https://colab.research.google.com/github/huuquangnhatnguyen/RoboticDataVisual/blob/main/SideViewModelforKuka.ipynb\" target=\"_parent\"><img src=\"https://colab.research.google.com/assets/colab-badge.svg\" alt=\"Open In Colab\"/></a>"
      ]
    },
    {
      "cell_type": "markdown",
      "source": [
        "This function is used to load the original MATLAB file of information into python and transform it into a dictionary with 10 keys respectively according to 10 trajectories. \n",
        "\n",
        "\n"
      ],
      "metadata": {
        "id": "7D7p4H7ghs4z"
      }
    },
    {
      "cell_type": "code",
      "source": [
        "from scipy.io import loadmat\n",
        "# loading matlab file and split every row \n",
        "import pandas as pd\n",
        "def loadingMatfiles(filename):\n",
        "  rawDict = loadmat(filename)\n",
        "  keys = []\n",
        "  for i in range (1,11):\n",
        "    sampleName = (\"baxtertraj\" if filename == \"BaxterDirectDynamics.mat\" else \"kukatraj\") + str(i)\n",
        "    keys.append(sampleName)\n",
        "  samples = []\n",
        "  for key in keys:\n",
        "    samples.append(pd.DataFrame(rawDict[key]))\n",
        "  return samples\n",
        "  \n",
        "\n"
      ],
      "metadata": {
        "id": "C9E03X9lIkp3"
      },
      "execution_count": null,
      "outputs": []
    },
    {
      "cell_type": "markdown",
      "source": [
        "This function is used to split the original dataframe into smaller dataframes, which contain the information of position, velocity and torque of the 7 joints. "
      ],
      "metadata": {
        "id": "0SlykdwSjBvk"
      }
    },
    {
      "cell_type": "code",
      "source": [
        "# this function is used to split the original \n",
        "\n",
        "def ColumnSplit(trajectory):\n",
        "  SensorPosition = trajectory.iloc[ : , [0,1,2,3,4,5,6]].copy()\n",
        "  SensorVelo = trajectory.iloc[:, [7,8,9,10,11,12,13]].copy()\n",
        "  SensorTorques = trajectory.iloc[:, [14,15,16,17,18,19,20]].copy()\n",
        "  TargetPosition = trajectory.iloc[:, [21,22,23,24,25,26,27]].copy()\n",
        "  TargetVelo = trajectory.iloc[:, [28,29,30,31,32,33,34]].copy()\n",
        "  Iterdf = {\"SensorPosition\" : SensorPosition,\n",
        "          \"SensorVelo\":SensorVelo,\n",
        "          \"SensorTorques\":SensorTorques,\n",
        "          \"TargetPosition\":TargetPosition,\n",
        "          \"TargetVelo\": TargetVelo}\n",
        "\n",
        "  # change the name of the column in side the dataframe into joint #number\n",
        "\n",
        "  Iterdf[\"SensorPosition\"].rename(columns = lambda s: str(s + 1) ,inplace=True)\n",
        "  Iterdf[\"SensorPosition\"].rename(columns = lambda s: \"Joint \" + s ,inplace=True)\n",
        "  \n",
        "  Iterdf[\"SensorVelo\"].rename(columns = lambda s: str(s - 6) ,inplace=True)\n",
        "  Iterdf[\"SensorVelo\"].rename(columns = lambda s: \"Joint \" + s ,inplace=True)\n",
        "  \n",
        "\n",
        "  Iterdf[\"SensorTorques\"].rename(columns = lambda s: str(s - 13) ,inplace=True)\n",
        "  Iterdf[\"SensorTorques\"].rename(columns = lambda s: \"Joint \" + s ,inplace=True)\n",
        "  \n",
        "  Iterdf[\"TargetPosition\"].rename(columns = lambda s: str(s - 20) ,inplace=True)\n",
        "  Iterdf[\"TargetPosition\"].rename(columns = lambda s: \"Joint \" + s ,inplace=True)\n",
        "  \n",
        "  Iterdf[\"TargetVelo\"].rename(columns = lambda s: str(s - 27) ,inplace=True)\n",
        "  Iterdf[\"TargetVelo\"].rename(columns = lambda s: \"Joint \" + s ,inplace=True)\n",
        "  \n",
        "  \n",
        "  return Iterdf\n",
        "\n",
        "\n",
        "\n"
      ],
      "metadata": {
        "id": "j-MjqvwaTZOn"
      },
      "execution_count": null,
      "outputs": []
    },
    {
      "cell_type": "markdown",
      "source": [
        "Run the code block below to conduct spliting the original dataframe input from the MATLAB file into dataframes inside a dictionary with keywords"
      ],
      "metadata": {
        "id": "GggN1uALSfAz"
      }
    },
    {
      "cell_type": "code",
      "source": [
        "kuka = loadingMatfiles(\"KukaDirectDynamics.mat\")\n",
        "ColumnSplit(kuka[5])"
      ],
      "metadata": {
        "id": "6aSu64KpDxzB"
      },
      "execution_count": null,
      "outputs": []
    },
    {
      "cell_type": "markdown",
      "source": [
        "With the dictionary above, I will plot out line plots to describe the tranformation in positions, velocity and torque of the robot over iterations of the pick and place process\n"
      ],
      "metadata": {
        "id": "LB5LQFSgmWXW"
      }
    },
    {
      "cell_type": "code",
      "source": [
        "import os\n",
        "import matplotlib.pyplot as plt\n",
        "path = \"/content/plot\"\n",
        "os.mkdir(path)\n",
        "\n",
        "def linePlot(robot):\n",
        "  traj = 0\n",
        "  for robottraj in robot:\n",
        "    traj = traj + 1\n",
        "    curTraj = ColumnSplit(robottraj)\n",
        "    \n",
        "    #directory = \"robottraj\" + traj\n",
        "    #os.mkdir(directory)\n",
        "    for aspect in curTraj.keys():\n",
        "      filename = \"/content/plot/\" + (aspect  + str(traj) + \".png\")\n",
        "      curTraj[aspect].plot(subplots = True, title = aspect)\n",
        "      plt.savefig(filename,facecolor = \"w\", edgecolor='w', transparent = False)\n",
        "\n",
        "\n",
        "\n",
        "\n"
      ],
      "metadata": {
        "id": "nvpyBpavX4Q2"
      },
      "execution_count": null,
      "outputs": []
    },
    {
      "cell_type": "markdown",
      "source": [
        "This below code is used to run and visualize the data from the dataframe of the Kuka Robots"
      ],
      "metadata": {
        "id": "bnLKq5vg8pwp"
      }
    },
    {
      "cell_type": "code",
      "source": [
        "kuka = loadingMatfiles(\"KukaDirectDynamics.mat\")\n",
        "linePlot(kuka)"
      ],
      "metadata": {
        "id": "t5vmOixb8DiZ"
      },
      "execution_count": null,
      "outputs": []
    },
    {
      "cell_type": "markdown",
      "source": [
        "This code is used to create a folder to store a visualization of of the motion of Kuka"
      ],
      "metadata": {
        "id": "JUAVYM3IQRC9"
      }
    },
    {
      "cell_type": "code",
      "source": [
        "import os\n",
        "path = \"/content/figure\"\n",
        "os.mkdir(path)"
      ],
      "metadata": {
        "id": "OmKUBVwpkDOZ"
      },
      "execution_count": null,
      "outputs": []
    },
    {
      "cell_type": "markdown",
      "source": [
        "This below code is to create graph of motion of every iteration and generate a gif according to the series of images and changes "
      ],
      "metadata": {
        "id": "kd76MM-QQNrH"
      }
    },
    {
      "cell_type": "code",
      "source": [
        "import imageio\n",
        "import math\n",
        "import matplotlib.pyplot as plt\n",
        "import numpy as np\n",
        "\n",
        "def motionModelSide(kukatraj,path): \n",
        "\n",
        "  sideView = kukatraj.iloc[:, [1,3,5]].copy()\n",
        "\n",
        "  l1 = 40\n",
        "  l2 = 40\n",
        "  l3 = 16\n",
        "\n",
        "  figno = 1\n",
        "  for i in range(0,len(sideView.index)):\n",
        "    x1 = l1 * math.cos(sideView.iloc[i][1])\n",
        "    y1 = l1 * math.sin(sideView.iloc[i][1])\n",
        "    x2 = x1 + l2 * math.cos(sideView.iloc[i][3])\n",
        "    y2 = y1 + l2 * math.sin(sideView.iloc[i][3])\n",
        "    x3 = x2 + l3 * math.cos(sideView.iloc[i][5])\n",
        "    y3 = y2 + l3 * math.sin(sideView.iloc[i][5])\n",
        "\n",
        "    filename = path + \"/\" + (\"frame\" + str(figno) + '.jpg')\n",
        "    figno = figno + 1\n",
        "\n",
        "    plt.figure()\n",
        "    plt.plot([0,x1],[34,y1])\n",
        "    plt.plot([x1,x2],[y1,y2])\n",
        "    plt.plot([x2,x3],[y2,y3])\n",
        "    plt.xlim([0,120])\n",
        "    plt.ylim([-120,120])\n",
        "    plt.savefig(filename)\n",
        "\n",
        "  images=[]\n",
        "  for i in range(1,len(sideView.index)):\n",
        "    filename = path + \"/\" + \"frame\" + str(i)+\".jpg\"\n",
        "    images.append(imageio.imread(filename))\n",
        "  imageio.mimsave('/content/figure/Traj.gif', images, fps = 30)\n",
        "\n"
      ],
      "metadata": {
        "id": "h9G92H21p6WL"
      },
      "execution_count": null,
      "outputs": []
    },
    {
      "cell_type": "markdown",
      "source": [
        "Run the block of code below to process log out the motion model of a trajectory"
      ],
      "metadata": {
        "id": "p1mNnynrTSOT"
      }
    },
    {
      "cell_type": "code",
      "source": [
        "import os\n",
        "path = \"/content/KukaTraj\"\n",
        "os.mkdir(path)\n",
        "kuka = loadingMatfiles(\"KukaDirectDynamics.mat\")\n",
        "traj1 = kuka[7]         # replace index with the designated one, no of trajectory = index + 1\n",
        "motionModelSide(traj1,path)"
      ],
      "metadata": {
        "id": "FYX6bF7HQ1j5"
      },
      "execution_count": null,
      "outputs": []
    },
    {
      "cell_type": "markdown",
      "source": [
        "This is a demo testing for baxter right arm side view"
      ],
      "metadata": {
        "id": "fCom5-9qTmk4"
      }
    },
    {
      "cell_type": "code",
      "source": [
        "import os\n",
        "import imageio\n",
        "import math\n",
        "import matplotlib.pyplot as plt\n",
        "import numpy as np\n",
        "\n",
        "def motionModelSide(baxtertraj,path): \n",
        "\n",
        "  sideView = baxtertraj.iloc[:, [1,3,5]].copy()\n",
        "\n",
        "  l1 = 7\n",
        "  l2 = 1\n",
        "  l3 = 16\n",
        "\n",
        "  figno = 1\n",
        "  for i in range(0,len(sideView.index)):\n",
        "    x1 = l1 * math.cos(sideView.iloc[i][1])\n",
        "    y1 = l1 * math.sin(sideView.iloc[i][1])\n",
        "    x2 = x1 + l2 * math.cos(sideView.iloc[i][3])\n",
        "    y2 = y1 + l2 * math.sin(sideView.iloc[i][3])\n",
        "    x3 = x2 + l3 * math.cos(sideView.iloc[i][5])\n",
        "    y3 = y2 + l3 * math.sin(sideView.iloc[i][5])\n",
        "\n",
        "    filename = path + \"/\" + (\"frame\" + str(figno) + '.jpg')\n",
        "    figno = figno + 1\n",
        "\n",
        "    plt.figure()\n",
        "    plt.plot([0,x1],[27,y1])\n",
        "    plt.plot([x1,x2],[y1,y2])\n",
        "    plt.plot([x2,x3],[y2,y3])\n",
        "    plt.xlim([0,120])\n",
        "    plt.ylim([0,120])\n",
        "    plt.savefig(filename)\n",
        "\n",
        "  images=[]\n",
        "  for i in range(1,len(sideView.index)):\n",
        "    filename = path + \"/\" + \"frame\" + str(i)+\".jpg\"\n",
        "    images.append(imageio.imread(filename))\n",
        "  imageio.mimsave('/content/figure/moviebdemo.gif', images, fps = 30)\n",
        "\n"
      ],
      "metadata": {
        "id": "BwQJRZeNJ4B6"
      },
      "execution_count": null,
      "outputs": []
    }
  ]
}